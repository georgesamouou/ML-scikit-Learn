{
 "cells": [
  {
   "cell_type": "markdown",
   "id": "04d15980",
   "metadata": {},
   "source": [
    " # Malaria detection"
   ]
  },
  {
   "cell_type": "code",
   "execution_count": 1,
   "id": "d7ce700f",
   "metadata": {},
   "outputs": [
    {
     "name": "stderr",
     "output_type": "stream",
     "text": [
      "C:\\Users\\junior\\anaconda3\\lib\\site-packages\\scipy\\__init__.py:146: UserWarning: A NumPy version >=1.16.5 and <1.23.0 is required for this version of SciPy (detected version 1.25.2\n",
      "  warnings.warn(f\"A NumPy version >={np_minversion} and <{np_maxversion}\"\n"
     ]
    }
   ],
   "source": [
    "import tensorflow as tf### models\n",
    "import numpy as np### math computations\n",
    "import matplotlib.pyplot as plt### plots\n",
    "import sklearn### machine learning library\n",
    "from PIL import Image\n",
    "from sklearn.metrics import confusion_matrix, roc_curve### metrics\n",
    "import seaborn as sns### visualizations\n",
    "import datetime\n",
    "import io\n",
    "import os\n",
    "import random\n",
    "import tensorflow_datasets as tfds\n",
    "from tensorflow.keras.layers import Conv2D, MaxPool2D, Dense, Flatten, InputLayer, BatchNormalization, Input, Dropout, RandomFlip, RandomRotation, Resizing, Rescaling,Layer\n",
    "from tensorflow.keras.optimizers import Adam\n",
    "from tensorflow.keras.losses import BinaryCrossentropy\n",
    "from tensorflow.keras.models import Model\n",
    "from tensorflow.keras.metrics import BinaryAccuracy, FalsePositives, FalseNegatives, TruePositives, TrueNegatives, Precision, Recall, AUC\n",
    "import sklearn\n",
    "from sklearn.metrics import confusion_matrix, roc_curve\n",
    "import seaborn as sns\n",
    "from tensorflow.keras.callbacks import Callback"
   ]
  },
  {
   "cell_type": "code",
   "execution_count": 1,
   "id": "9979f902",
   "metadata": {},
   "outputs": [
    {
     "name": "stderr",
     "output_type": "stream",
     "text": [
      "C:\\Users\\junior\\anaconda3\\lib\\site-packages\\scipy\\__init__.py:146: UserWarning: A NumPy version >=1.16.5 and <1.23.0 is required for this version of SciPy (detected version 1.25.2\n",
      "  warnings.warn(f\"A NumPy version >={np_minversion} and <{np_maxversion}\"\n"
     ]
    },
    {
     "name": "stdout",
     "output_type": "stream",
     "text": [
      "Num GPUs Available:  0\n"
     ]
    }
   ],
   "source": [
    "import tensorflow as tf\n",
    "print(\"Num GPUs Available: \", len(tf.config.list_physical_devices('GPU')))"
   ]
  },
  {
   "cell_type": "code",
   "execution_count": 3,
   "id": "78537236",
   "metadata": {},
   "outputs": [],
   "source": [
    "dataset, dataset_info = tfds.load('malaria', with_info = True, as_supervised = True, shuffle_files = True, split = [\"train\"])"
   ]
  },
  {
   "cell_type": "code",
   "execution_count": 87,
   "id": "407228d7",
   "metadata": {},
   "outputs": [
    {
     "data": {
      "text/plain": [
       "[<PrefetchDataset element_spec=(TensorSpec(shape=(None, None, 3), dtype=tf.uint8, name=None), TensorSpec(shape=(), dtype=tf.int64, name=None))>]"
      ]
     },
     "execution_count": 87,
     "metadata": {},
     "output_type": "execute_result"
    }
   ],
   "source": [
    "dataset"
   ]
  },
  {
   "cell_type": "code",
   "execution_count": 8,
   "id": "12906ce6",
   "metadata": {
    "scrolled": true
   },
   "outputs": [
    {
     "data": {
      "text/plain": [
       "tfds.core.DatasetInfo(\n",
       "    name='malaria',\n",
       "    full_name='malaria/1.0.0',\n",
       "    description=\"\"\"\n",
       "    The Malaria dataset contains a total of 27,558 cell images with equal instances\n",
       "    of parasitized and uninfected cells from the thin blood smear slide images of\n",
       "    segmented cells.\n",
       "    \"\"\",\n",
       "    homepage='https://lhncbc.nlm.nih.gov/publication/pub9932',\n",
       "    data_path='C:\\\\Users\\\\junior\\\\tensorflow_datasets\\\\malaria\\\\1.0.0',\n",
       "    file_format=tfrecord,\n",
       "    download_size=337.08 MiB,\n",
       "    dataset_size=317.62 MiB,\n",
       "    features=FeaturesDict({\n",
       "        'image': Image(shape=(None, None, 3), dtype=uint8),\n",
       "        'label': ClassLabel(shape=(), dtype=int64, num_classes=2),\n",
       "    }),\n",
       "    supervised_keys=('image', 'label'),\n",
       "    disable_shuffling=False,\n",
       "    splits={\n",
       "        'train': <SplitInfo num_examples=27558, num_shards=4>,\n",
       "    },\n",
       "    citation=\"\"\"@article{rajaraman2018pre,\n",
       "      title={Pre-trained convolutional neural networks as feature extractors toward\n",
       "      improved malaria parasite detection in thin blood smear images},\n",
       "      author={Rajaraman, Sivaramakrishnan and Antani, Sameer K and Poostchi, Mahdieh\n",
       "      and Silamut, Kamolrat and Hossain, Md A and Maude, Richard J and Jaeger,\n",
       "      Stefan and Thoma, George R},\n",
       "      journal={PeerJ},\n",
       "      volume={6},\n",
       "      pages={e4568},\n",
       "      year={2018},\n",
       "      publisher={PeerJ Inc.}\n",
       "    }\"\"\",\n",
       ")"
      ]
     },
     "execution_count": 8,
     "metadata": {},
     "output_type": "execute_result"
    }
   ],
   "source": [
    "dataset_info"
   ]
  },
  {
   "cell_type": "code",
   "execution_count": 14,
   "id": "21bfb43e",
   "metadata": {},
   "outputs": [
    {
     "data": {
      "text/plain": [
       "27558"
      ]
     },
     "execution_count": 14,
     "metadata": {},
     "output_type": "execute_result"
    }
   ],
   "source": []
  },
  {
   "cell_type": "code",
   "execution_count": 4,
   "id": "027b79ef",
   "metadata": {},
   "outputs": [],
   "source": [
    "\n",
    "def splits(dataset,TRAIN_RATIO,VAL_RATIO,TEST_RATIO):\n",
    "    DATASET_SIZE = len(dataset)\n",
    "    \n",
    "    train_dataset = dataset.take(int(TRAIN_RATIO*DATASET_SIZE))\n",
    "    \n",
    "    val_test_dataset = dataset.skip(int(TRAIN_RATIO*DATASET_SIZE))\n",
    "    val_dataset = val_test_dataset.take(int(VAL_RATIO*DATASET_SIZE))\n",
    "    \n",
    "    test_dataset = val_test_dataset.skip(int(VAL_RATIO*DATASET_SIZE))\n",
    "    return train_dataset, val_dataset, test_dataset"
   ]
  },
  {
   "cell_type": "code",
   "execution_count": 5,
   "id": "038634f0",
   "metadata": {},
   "outputs": [
    {
     "name": "stdout",
     "output_type": "stream",
     "text": [
      "[(array([[[0, 0, 0],\n",
      "        [0, 0, 0],\n",
      "        [0, 0, 0],\n",
      "        ...,\n",
      "        [0, 0, 0],\n",
      "        [0, 0, 0],\n",
      "        [0, 0, 0]],\n",
      "\n",
      "       [[0, 0, 0],\n",
      "        [0, 0, 0],\n",
      "        [0, 0, 0],\n",
      "        ...,\n",
      "        [0, 0, 0],\n",
      "        [0, 0, 0],\n",
      "        [0, 0, 0]],\n",
      "\n",
      "       [[0, 0, 0],\n",
      "        [0, 0, 0],\n",
      "        [0, 0, 0],\n",
      "        ...,\n",
      "        [0, 0, 0],\n",
      "        [0, 0, 0],\n",
      "        [0, 0, 0]],\n",
      "\n",
      "       ...,\n",
      "\n",
      "       [[0, 0, 0],\n",
      "        [0, 0, 0],\n",
      "        [0, 0, 0],\n",
      "        ...,\n",
      "        [0, 0, 0],\n",
      "        [0, 0, 0],\n",
      "        [0, 0, 0]],\n",
      "\n",
      "       [[0, 0, 0],\n",
      "        [0, 0, 0],\n",
      "        [0, 0, 0],\n",
      "        ...,\n",
      "        [0, 0, 0],\n",
      "        [0, 0, 0],\n",
      "        [0, 0, 0]],\n",
      "\n",
      "       [[0, 0, 0],\n",
      "        [0, 0, 0],\n",
      "        [0, 0, 0],\n",
      "        ...,\n",
      "        [0, 0, 0],\n",
      "        [0, 0, 0],\n",
      "        [0, 0, 0]]], dtype=uint8), 1)]\n"
     ]
    }
   ],
   "source": [
    "TRAIN_RATIO = 0.8\n",
    "VAL_RATIO = 0.1\n",
    "TEST_RATIO =0.1\n",
    "\n",
    "#dataset = tf.data.Dataset.range(10)\n",
    "train_dataset, val_dataset, test_dataset = splits(dataset[0] , TRAIN_RATIO ,VAL_RATIO,TEST_RATIO)\n",
    "print(list(val_dataset.take(1).as_numpy_iterator()))"
   ]
  },
  {
   "cell_type": "markdown",
   "id": "ecb41551",
   "metadata": {},
   "source": [
    "# Dataset Visualisation"
   ]
  },
  {
   "cell_type": "code",
   "execution_count": 5,
   "id": "195c2a0f",
   "metadata": {},
   "outputs": [
    {
     "data": {
      "image/png": "[encoded data removed]",
      "text/plain": [
       "<Figure size 432x288 with 16 Axes>"
      ]
     },
     "metadata": {
      "needs_background": "light"
     },
     "output_type": "display_data"
    }
   ],
   "source": [
    "for i, (image, label) in enumerate(train_dataset.take(16)):\n",
    "    ax = plt.subplot(4, 4, i + 1)\n",
    "    plt.imshow(image) \n",
    "    plt.title(dataset_info.features[\"label\"].int2str(label))\n",
    "    plt.axis('off')"
   ]
  },
  {
   "cell_type": "code",
   "execution_count": 6,
   "id": "39d482a7",
   "metadata": {},
   "outputs": [
    {
     "data": {
      "text/plain": [
       "'parasitized'"
      ]
     },
     "execution_count": 6,
     "metadata": {},
     "output_type": "execute_result"
    }
   ],
   "source": [
    " dataset_info.features[\"label\"].int2str(0)"
   ]
  },
  {
   "cell_type": "code",
   "execution_count": 43,
   "id": "9fba9ac9",
   "metadata": {},
   "outputs": [
    {
     "data": {
      "text/plain": [
       "'uninfected'"
      ]
     },
     "execution_count": 43,
     "metadata": {},
     "output_type": "execute_result"
    }
   ],
   "source": [
    " dataset_info.features[\"label\"].int2str(1)"
   ]
  },
  {
   "cell_type": "markdown",
   "id": "92b68adc",
   "metadata": {},
   "source": [
    "# Data Preprocessing"
   ]
  },
  {
   "cell_type": "code",
   "execution_count": 6,
   "id": "195c16cd",
   "metadata": {},
   "outputs": [],
   "source": [
    "IM_SIZE = 224\n",
    "def resize_rescale(image, label):\n",
    "    return tf.image.resize(image,(IM_SIZE,IM_SIZE))/255.0,label"
   ]
  },
  {
   "cell_type": "code",
   "execution_count": 7,
   "id": "9d383e39",
   "metadata": {},
   "outputs": [],
   "source": [
    "train_dataset = train_dataset.map(resize_rescale)\n",
    "val_dataset = val_dataset.map(resize_rescale)\n",
    "test_dataset = test_dataset.map(resize_rescale)"
   ]
  },
  {
   "cell_type": "code",
   "execution_count": 52,
   "id": "1c2dbd90",
   "metadata": {},
   "outputs": [
    {
     "name": "stdout",
     "output_type": "stream",
     "text": [
      "(<tf.Tensor: shape=(224, 224, 3), dtype=float32, numpy=\n",
      "array([[[0., 0., 0.],\n",
      "        [0., 0., 0.],\n",
      "        [0., 0., 0.],\n",
      "        ...,\n",
      "        [0., 0., 0.],\n",
      "        [0., 0., 0.],\n",
      "        [0., 0., 0.]],\n",
      "\n",
      "       [[0., 0., 0.],\n",
      "        [0., 0., 0.],\n",
      "        [0., 0., 0.],\n",
      "        ...,\n",
      "        [0., 0., 0.],\n",
      "        [0., 0., 0.],\n",
      "        [0., 0., 0.]],\n",
      "\n",
      "       [[0., 0., 0.],\n",
      "        [0., 0., 0.],\n",
      "        [0., 0., 0.],\n",
      "        ...,\n",
      "        [0., 0., 0.],\n",
      "        [0., 0., 0.],\n",
      "        [0., 0., 0.]],\n",
      "\n",
      "       ...,\n",
      "\n",
      "       [[0., 0., 0.],\n",
      "        [0., 0., 0.],\n",
      "        [0., 0., 0.],\n",
      "        ...,\n",
      "        [0., 0., 0.],\n",
      "        [0., 0., 0.],\n",
      "        [0., 0., 0.]],\n",
      "\n",
      "       [[0., 0., 0.],\n",
      "        [0., 0., 0.],\n",
      "        [0., 0., 0.],\n",
      "        ...,\n",
      "        [0., 0., 0.],\n",
      "        [0., 0., 0.],\n",
      "        [0., 0., 0.]],\n",
      "\n",
      "       [[0., 0., 0.],\n",
      "        [0., 0., 0.],\n",
      "        [0., 0., 0.],\n",
      "        ...,\n",
      "        [0., 0., 0.],\n",
      "        [0., 0., 0.],\n",
      "        [0., 0., 0.]]], dtype=float32)>, <tf.Tensor: shape=(), dtype=int64, numpy=1>)\n"
     ]
    }
   ],
   "source": [
    "for data in train_dataset:\n",
    "    print(data)\n",
    "    break"
   ]
  },
  {
   "cell_type": "code",
   "execution_count": 8,
   "id": "2eacff83",
   "metadata": {},
   "outputs": [],
   "source": [
    "train_dataset = train_dataset.shuffle(buffer_size = 8, reshuffle_each_iteration = True).batch(32).prefetch(tf.data.AUTOTUNE)\n",
    "val_dataset = val_dataset.shuffle(buffer_size = 8, reshuffle_each_iteration = True).batch(32).prefetch(tf.data.AUTOTUNE)"
   ]
  },
  {
   "cell_type": "markdown",
   "id": "c42a9257",
   "metadata": {},
   "source": [
    "# Model Creation\n",
    "\n",
    "### Sequential"
   ]
  },
  {
   "cell_type": "code",
   "execution_count": 9,
   "id": "3e9d0765",
   "metadata": {},
   "outputs": [
    {
     "name": "stdout",
     "output_type": "stream",
     "text": [
      "Model: \"sequential\"\n",
      "_________________________________________________________________\n",
      " Layer (type)                Output Shape              Param #   \n",
      "=================================================================\n",
      " conv2d (Conv2D)             (None, 222, 222, 6)       168       \n",
      "                                                                 \n",
      " batch_normalization (BatchN  (None, 222, 222, 6)      24        \n",
      " ormalization)                                                   \n",
      "                                                                 \n",
      " max_pooling2d (MaxPooling2D  (None, 111, 111, 6)      0         \n",
      " )                                                               \n",
      "                                                                 \n",
      " conv2d_1 (Conv2D)           (None, 109, 109, 16)      880       \n",
      "                                                                 \n",
      " batch_normalization_1 (Batc  (None, 109, 109, 16)     64        \n",
      " hNormalization)                                                 \n",
      "                                                                 \n",
      " max_pooling2d_1 (MaxPooling  (None, 54, 54, 16)       0         \n",
      " 2D)                                                             \n",
      "                                                                 \n",
      " flatten (Flatten)           (None, 46656)             0         \n",
      "                                                                 \n",
      " dense (Dense)               (None, 100)               4665700   \n",
      "                                                                 \n",
      " batch_normalization_2 (Batc  (None, 100)              400       \n",
      " hNormalization)                                                 \n",
      "                                                                 \n",
      " dense_1 (Dense)             (None, 10)                1010      \n",
      "                                                                 \n",
      " batch_normalization_3 (Batc  (None, 10)               40        \n",
      " hNormalization)                                                 \n",
      "                                                                 \n",
      " dense_2 (Dense)             (None, 1)                 11        \n",
      "                                                                 \n",
      "=================================================================\n",
      "Total params: 4,668,297\n",
      "Trainable params: 4,668,033\n",
      "Non-trainable params: 264\n",
      "_________________________________________________________________\n"
     ]
    }
   ],
   "source": [
    "lenet_model = tf.keras.Sequential([\n",
    "    InputLayer(input_shape = (IM_SIZE, IM_SIZE, 3)),\n",
    "    \n",
    "    Conv2D(filters = 6, kernel_size = 3, strides = 1, padding = 'valid', activation = \"relu\" ),\n",
    "    BatchNormalization(),\n",
    "    MaxPool2D(pool_size = 2, strides = 2),\n",
    "    \n",
    "    Conv2D(filters = 16, kernel_size = 3, strides = 1, padding = 'valid', activation = \"relu\" ),\n",
    "    BatchNormalization(),\n",
    "    MaxPool2D(pool_size = 2, strides = 2),\n",
    "    \n",
    "    Flatten(),\n",
    "    \n",
    "    Dense(100, activation= 'relu'),\n",
    "    BatchNormalization(),\n",
    "    Dense(10, activation= 'relu'),\n",
    "    BatchNormalization(),\n",
    "    Dense(1, activation= 'sigmoid')\n",
    "])\n",
    "lenet_model.summary()"
   ]
  },
  {
   "cell_type": "code",
   "execution_count": 11,
   "id": "e77d4350",
   "metadata": {},
   "outputs": [],
   "source": [
    "lenet_model.compile(optimizer = Adam(learning_rate = 0.1),\n",
    "             loss = BinaryCrossentropy(from_logits=False),\n",
    "             metrics = metrics       \n",
    "            )\n",
    "             #metrics = RootMeanSquaredError()) "
   ]
  },
  {
   "cell_type": "code",
   "execution_count": 12,
   "id": "188d9a7f",
   "metadata": {
    "scrolled": true
   },
   "outputs": [
    {
     "name": "stdout",
     "output_type": "stream",
     "text": [
      "Epoch 1/5\n",
      "689/689 [==============================] - 590s 849ms/step - loss: 0.3972 - accuracy: 0.8291 - fp: 2335.0000 - fn: 1432.0000 - tp: 9595.0000 - tn: 8684.0000 - precision: 0.8043 - recall: 0.8701 - auc: 0.9017 - val_loss: 2.5558 - val_accuracy: 0.4936 - val_fp: 0.0000e+00 - val_fn: 1395.0000 - val_tp: 0.0000e+00 - val_tn: 1360.0000 - val_precision: 0.0000e+00 - val_recall: 0.0000e+00 - val_auc: 0.4750\n",
      "Epoch 2/5\n",
      "689/689 [==============================] - 580s 842ms/step - loss: 0.2768 - accuracy: 0.9086 - fp: 1460.0000 - fn: 556.0000 - tp: 10469.0000 - tn: 9561.0000 - precision: 0.8776 - recall: 0.9496 - auc: 0.9459 - val_loss: 0.3010 - val_accuracy: 0.8929 - val_fp: 281.0000 - val_fn: 14.0000 - val_tp: 1372.0000 - val_tn: 1088.0000 - val_precision: 0.8300 - val_recall: 0.9899 - val_auc: 0.9462\n",
      "Epoch 3/5\n",
      "689/689 [==============================] - 580s 842ms/step - loss: 0.2404 - accuracy: 0.9254 - fp: 1229.0000 - fn: 415.0000 - tp: 10607.0000 - tn: 9795.0000 - precision: 0.8962 - recall: 0.9623 - auc: 0.9546 - val_loss: 0.6237 - val_accuracy: 0.9020 - val_fp: 217.0000 - val_fn: 53.0000 - val_tp: 1341.0000 - val_tn: 1144.0000 - val_precision: 0.8607 - val_recall: 0.9620 - val_auc: 0.9479\n",
      "Epoch 4/5\n",
      "689/689 [==============================] - 580s 842ms/step - loss: 0.2263 - accuracy: 0.9301 - fp: 1069.0000 - fn: 473.0000 - tp: 10554.0000 - tn: 9950.0000 - precision: 0.9080 - recall: 0.9571 - auc: 0.9584 - val_loss: 0.2182 - val_accuracy: 0.9292 - val_fp: 163.0000 - val_fn: 32.0000 - val_tp: 1363.0000 - val_tn: 1197.0000 - val_precision: 0.8932 - val_recall: 0.9771 - val_auc: 0.9730\n",
      "Epoch 5/5\n",
      "689/689 [==============================] - 578s 838ms/step - loss: 0.2106 - accuracy: 0.9395 - fp: 855.0000 - fn: 478.0000 - tp: 10547.0000 - tn: 10166.0000 - precision: 0.9250 - recall: 0.9566 - auc: 0.9620 - val_loss: 0.9889 - val_accuracy: 0.7154 - val_fp: 776.0000 - val_fn: 8.0000 - val_tp: 1384.0000 - val_tn: 587.0000 - val_precision: 0.6407 - val_recall: 0.9943 - val_auc: 0.8931\n"
     ]
    }
   ],
   "source": [
    "history = lenet_model.fit(train_dataset, validation_data = val_dataset, epochs= 5, verbose = 1)"
   ]
  },
  {
   "cell_type": "code",
   "execution_count": 41,
   "id": "a10c4c1f",
   "metadata": {},
   "outputs": [
    {
     "data": {
      "image/png": "[encoded data removed]",
      "text/plain": [
       "<Figure size 432x288 with 1 Axes>"
      ]
     },
     "metadata": {
      "needs_background": "light"
     },
     "output_type": "display_data"
    }
   ],
   "source": [
    "plt.plot(history.history['loss'])\n",
    "plt.plot(history.history['val_loss'])\n",
    "plt.title('Model loss')\n",
    "plt.ylabel('loss')\n",
    "plt.xlabel('epoch')\n",
    "plt.legend(['train_loss', 'val_loss'])\n",
    "plt.show()"
   ]
  },
  {
   "cell_type": "code",
   "execution_count": 42,
   "id": "f6ba35b6",
   "metadata": {},
   "outputs": [
    {
     "data": {
      "image/png": "[encoded data removed]",
      "text/plain": [
       "<Figure size 432x288 with 1 Axes>"
      ]
     },
     "metadata": {
      "needs_background": "light"
     },
     "output_type": "display_data"
    }
   ],
   "source": [
    "plt.plot(history.history['accuracy'])\n",
    "plt.plot(history.history['val_accuracy'])\n",
    "plt.title('Model Accuracy')\n",
    "plt.ylabel('Accuracy')\n",
    "plt.xlabel('Epoch')\n",
    "plt.legend(['train_accuracy', 'val_accuracy'])\n",
    "plt.show()"
   ]
  },
  {
   "cell_type": "code",
   "execution_count": 32,
   "id": "4ebfb3e5",
   "metadata": {},
   "outputs": [
    {
     "data": {
      "text/plain": [
       "<BatchDataset element_spec=(TensorSpec(shape=(None, 224, 224, 3), dtype=tf.float32, name=None), TensorSpec(shape=(None,), dtype=tf.int64, name=None))>"
      ]
     },
     "execution_count": 32,
     "metadata": {},
     "output_type": "execute_result"
    }
   ],
   "source": [
    "test_dataset"
   ]
  },
  {
   "cell_type": "code",
   "execution_count": 30,
   "id": "e77cf7ef",
   "metadata": {},
   "outputs": [
    {
     "data": {
      "text/plain": [
       "<PrefetchDataset element_spec=(TensorSpec(shape=(None, 224, 224, 3), dtype=tf.float32, name=None), TensorSpec(shape=(None,), dtype=tf.int64, name=None))>"
      ]
     },
     "execution_count": 30,
     "metadata": {},
     "output_type": "execute_result"
    }
   ],
   "source": [
    "train_dataset"
   ]
  },
  {
   "cell_type": "code",
   "execution_count": 8,
   "id": "b53d7875",
   "metadata": {},
   "outputs": [],
   "source": [
    "test_dataset = test_dataset.batch(1)"
   ]
  },
  {
   "cell_type": "code",
   "execution_count": 34,
   "id": "37e8849b",
   "metadata": {},
   "outputs": [
    {
     "name": "stdout",
     "output_type": "stream",
     "text": [
      "2757/2757 [==============================] - 46s 16ms/step - loss: 0.3739 - accuracy: 0.8988\n"
     ]
    },
    {
     "data": {
      "text/plain": [
       "[0.373944491147995, 0.8988030552864075]"
      ]
     },
     "execution_count": 34,
     "metadata": {},
     "output_type": "execute_result"
    }
   ],
   "source": [
    "lenet_model.evaluate(test_dataset)"
   ]
  },
  {
   "cell_type": "code",
   "execution_count": 37,
   "id": "0227fe02",
   "metadata": {},
   "outputs": [
    {
     "name": "stdout",
     "output_type": "stream",
     "text": [
      "1/1 [==============================] - 3s 3s/step\n"
     ]
    },
    {
     "data": {
      "text/plain": [
       "array([[0.99730015]], dtype=float32)"
      ]
     },
     "execution_count": 37,
     "metadata": {},
     "output_type": "execute_result"
    }
   ],
   "source": [
    "lenet_model.predict(test_dataset.take(1))"
   ]
  },
  {
   "cell_type": "code",
   "execution_count": 9,
   "id": "b39d44e5",
   "metadata": {},
   "outputs": [],
   "source": [
    "def parasite_or_not(x):\n",
    "    if(x<0.5):\n",
    "        return str('P')\n",
    "    else:\n",
    "        return str('U')"
   ]
  },
  {
   "cell_type": "code",
   "execution_count": 40,
   "id": "e3705b04",
   "metadata": {},
   "outputs": [
    {
     "name": "stdout",
     "output_type": "stream",
     "text": [
      "1/1 [==============================] - 3s 3s/step\n"
     ]
    },
    {
     "data": {
      "text/plain": [
       "'U'"
      ]
     },
     "execution_count": 40,
     "metadata": {},
     "output_type": "execute_result"
    }
   ],
   "source": [
    "parasite_or_not(lenet_model.predict(test_dataset.take(1))[0][0])"
   ]
  },
  {
   "cell_type": "code",
   "execution_count": 42,
   "id": "4bae0f50",
   "metadata": {},
   "outputs": [
    {
     "name": "stdout",
     "output_type": "stream",
     "text": [
      "1/1 [==============================] - 0s 237ms/step\n",
      "1/1 [==============================] - 0s 48ms/step\n",
      "1/1 [==============================] - 0s 46ms/step\n",
      "1/1 [==============================] - 0s 47ms/step\n",
      "1/1 [==============================] - 0s 46ms/step\n",
      "1/1 [==============================] - 0s 45ms/step\n",
      "1/1 [==============================] - 0s 45ms/step\n",
      "1/1 [==============================] - 0s 49ms/step\n",
      "1/1 [==============================] - 0s 47ms/step\n"
     ]
    },
    {
     "data": {
      "image/png": "[encoded data removed]",
      "text/plain": [
       "<Figure size 432x288 with 9 Axes>"
      ]
     },
     "metadata": {
      "needs_background": "light"
     },
     "output_type": "display_data"
    }
   ],
   "source": [
    "for i, (image,label) in enumerate(test_dataset.take(9)):\n",
    "    ax = plt.subplot(3, 3, i+1)\n",
    "    plt.imshow(image[0])\n",
    "    plt.title(str(parasite_or_not(label.numpy()[0])) + \":\" + str(parasite_or_not(lenet_model.predict(image)[0][0])))\n",
    "    \n",
    "    plt.axis('off')"
   ]
  },
  {
   "cell_type": "markdown",
   "id": "bdbad232",
   "metadata": {},
   "source": [
    "# Functional API"
   ]
  },
  {
   "cell_type": "code",
   "execution_count": 47,
   "id": "7c1c781e",
   "metadata": {},
   "outputs": [
    {
     "name": "stdout",
     "output_type": "stream",
     "text": [
      "Model: \"Feature_Extractor\"\n",
      "_________________________________________________________________\n",
      " Layer (type)                Output Shape              Param #   \n",
      "=================================================================\n",
      " Input image (InputLayer)    [(None, 224, 224, 3)]     0         \n",
      "                                                                 \n",
      " conv2d_14 (Conv2D)          (None, 222, 222, 6)       168       \n",
      "                                                                 \n",
      " batch_normalization_20 (Bat  (None, 222, 222, 6)      24        \n",
      " chNormalization)                                                \n",
      "                                                                 \n",
      " max_pooling2d_14 (MaxPoolin  (None, 111, 111, 6)      0         \n",
      " g2D)                                                            \n",
      "                                                                 \n",
      " conv2d_15 (Conv2D)          (None, 109, 109, 16)      880       \n",
      "                                                                 \n",
      " batch_normalization_21 (Bat  (None, 109, 109, 16)     64        \n",
      " chNormalization)                                                \n",
      "                                                                 \n",
      " max_pooling2d_15 (MaxPoolin  (None, 54, 54, 16)       0         \n",
      " g2D)                                                            \n",
      "                                                                 \n",
      "=================================================================\n",
      "Total params: 1,136\n",
      "Trainable params: 1,092\n",
      "Non-trainable params: 44\n",
      "_________________________________________________________________\n"
     ]
    }
   ],
   "source": [
    "func_input = Input(shape = (IM_SIZE, IM_SIZE, 3), name = \"Input image\")\n",
    "\n",
    "x = Conv2D(filters = 6, kernel_size = 3, strides = 1, padding = 'valid', activation = \"relu\" )(func_input)\n",
    "x = BatchNormalization()(x)\n",
    "x = MaxPool2D(pool_size = 2, strides = 2)(x)\n",
    "    \n",
    "x = Conv2D(filters = 16, kernel_size = 3, strides = 1, padding = 'valid', activation = \"relu\" )(x)\n",
    "x = BatchNormalization()(x)\n",
    "output = MaxPool2D(pool_size = 2, strides = 2)(x)\n",
    "    \n",
    "\n",
    "feature_extractor_model = Model(func_input, output, name = 'Feature_Extractor')\n",
    "feature_extractor_model.summary()"
   ]
  },
  {
   "cell_type": "code",
   "execution_count": 58,
   "id": "fce53401",
   "metadata": {},
   "outputs": [
    {
     "name": "stdout",
     "output_type": "stream",
     "text": [
      "Model: \"Lenet Model\"\n",
      "_________________________________________________________________\n",
      " Layer (type)                Output Shape              Param #   \n",
      "=================================================================\n",
      " Input image (InputLayer)    [(None, 224, 224, 3)]     0         \n",
      "                                                                 \n",
      " feature_extractor_3 (Featur  (None, 54, 54, 8)        872       \n",
      " eExtractor)                                                     \n",
      "                                                                 \n",
      " flatten_8 (Flatten)         (None, 23328)             0         \n",
      "                                                                 \n",
      " dense_24 (Dense)            (None, 100)               2332900   \n",
      "                                                                 \n",
      " batch_normalization_32 (Bat  (None, 100)              400       \n",
      " chNormalization)                                                \n",
      "                                                                 \n",
      " dense_25 (Dense)            (None, 10)                1010      \n",
      "                                                                 \n",
      " batch_normalization_33 (Bat  (None, 10)               40        \n",
      " chNormalization)                                                \n",
      "                                                                 \n",
      " dense_26 (Dense)            (None, 1)                 11        \n",
      "                                                                 \n",
      "=================================================================\n",
      "Total params: 2,335,233\n",
      "Trainable params: 2,334,981\n",
      "Non-trainable params: 252\n",
      "_________________________________________________________________\n"
     ]
    }
   ],
   "source": [
    "func_input = Input(shape = (IM_SIZE, IM_SIZE, 3), name = \"Input image\")\n",
    "\n",
    "x = feature_sub_classed(func_input)\n",
    "    \n",
    "x = Flatten()(x)\n",
    "    \n",
    "x = Dense(100, activation= 'relu')(x)\n",
    "x = BatchNormalization()(x)\n",
    "x = Dense(10, activation= 'relu')(x)\n",
    "x = BatchNormalization()(x)\n",
    "\n",
    "func_output = Dense(1, activation= 'sigmoid')(x)\n",
    "\n",
    "lenet_model = Model(func_input, func_output, name = 'Lenet Model')\n",
    "lenet_model.summary()"
   ]
  },
  {
   "cell_type": "markdown",
   "id": "c304547d",
   "metadata": {},
   "source": [
    "# Model Subclassing"
   ]
  },
  {
   "cell_type": "code",
   "execution_count": 14,
   "id": "00262705",
   "metadata": {},
   "outputs": [
    {
     "name": "stdout",
     "output_type": "stream",
     "text": [
      "Model: \"lenet_model_3\"\n",
      "_________________________________________________________________\n",
      " Layer (type)                Output Shape              Param #   \n",
      "=================================================================\n",
      " feature_extractor_3 (Featur  multiple                 872       \n",
      " eExtractor)                                                     \n",
      "                                                                 \n",
      " flatten_2 (Flatten)         multiple                  0         \n",
      "                                                                 \n",
      " dense_3 (Dense)             multiple                  2332900   \n",
      "                                                                 \n",
      " batch_normalization_10 (Bat  multiple                 400       \n",
      " chNormalization)                                                \n",
      "                                                                 \n",
      " dense_4 (Dense)             multiple                  1010      \n",
      "                                                                 \n",
      " batch_normalization_11 (Bat  multiple                 40        \n",
      " chNormalization)                                                \n",
      "                                                                 \n",
      " dense_5 (Dense)             multiple                  11        \n",
      "                                                                 \n",
      "=================================================================\n",
      "Total params: 2,335,233\n",
      "Trainable params: 2,334,981\n",
      "Non-trainable params: 252\n",
      "_________________________________________________________________\n"
     ]
    }
   ],
   "source": [
    "class LenetModel(Model):\n",
    "    def __init__(self):\n",
    "        super(LenetModel, self).__init__()\n",
    "        \n",
    "        self.feature_extractor = FeatureExtractor(8, 3, 1, \"valid\", \"relu\",2)\n",
    "        \n",
    "        self.flatten = Flatten()\n",
    "    \n",
    "        self.dense_1 = Dense(100, activation= 'relu')\n",
    "        self.batch_1= BatchNormalization()\n",
    "\n",
    "        self.dense_2 = Dense(10, activation= 'relu')\n",
    "        self.batch_2= BatchNormalization()\n",
    "\n",
    "\n",
    "        self.dense_3 = Dense(1, activation= 'sigmoid')\n",
    "        \n",
    "    def call(self, x):\n",
    "        x = self.feature_extractor(x)\n",
    "        x = self.flatten(x)\n",
    "        x = self.dense_1(x)\n",
    "        x = self.batch_1(x)\n",
    "        \n",
    "        x = self.dense_2(x)\n",
    "        x = self.batch_2(x)\n",
    "        x = self.dense_3(x)\n",
    "        \n",
    "        return x\n",
    "lenet_sub_classed = LenetModel()\n",
    "lenet_sub_classed(tf.zeros([1,224,224,3]))\n",
    "lenet_sub_classed.summary()"
   ]
  },
  {
   "cell_type": "code",
   "execution_count": 16,
   "id": "08b1fd11",
   "metadata": {},
   "outputs": [],
   "source": [
    "class FeatureExtractor(Layer):\n",
    "    def __init__(self,filters, kernel_size, strides, padding, activation,pool_size):\n",
    "        super(FeatureExtractor, self).__init__()\n",
    "        \n",
    "        self.conv_1 = Conv2D(filters = filters, kernel_size = kernel_size, strides = strides, padding = padding, activation = activation)\n",
    "        self.batch_1 = BatchNormalization()\n",
    "        self.pool_1 =  MaxPool2D(pool_size = pool_size, strides = 2*strides)\n",
    "        \n",
    "        self.conv_2 = Conv2D(filters = filters, kernel_size = kernel_size, strides = strides, padding = padding, activation = activation )\n",
    "        self.batch_2 = BatchNormalization()\n",
    "        self.pool_2 =  MaxPool2D(pool_size = pool_size, strides = 2*strides)\n",
    "    \n",
    "    def call(self, x):\n",
    "        x = self.conv_1(x)\n",
    "        x = self.batch_1(x)\n",
    "        x = self.pool_1(x)\n",
    "        \n",
    "        x = self.conv_2(x)\n",
    "        x = self.batch_2(x)\n",
    "        x = self.pool_2(x)\n",
    "        return x\n",
    "feature_sub_classed = FeatureExtractor(8, 3, 1, \"valid\", \"relu\",2)\n"
   ]
  },
  {
   "cell_type": "markdown",
   "id": "b830d049",
   "metadata": {},
   "source": [
    "## Custom Layers"
   ]
  },
  {
   "cell_type": "code",
   "execution_count": 25,
   "id": "9a16a3bb",
   "metadata": {},
   "outputs": [],
   "source": [
    "class NeuralearnDense(Layer):\n",
    "    def __init__(self, output_units, activation):\n",
    "        super(NeuralearnDense, self).__init__()\n",
    "        self.output_units = output_units\n",
    "        self.activation = activation\n",
    "        \n",
    "    def build(self, input_features_shape ):\n",
    "        self.w = self.add_weight(shape = (input_features_shape[-1], self.output_units),initializer = \"random_normal\", trainable = True)\n",
    "        self.b = self.add_weight(shape = (self.output_units),initializer = \"random_normal\", trainable = True)\n",
    "    \n",
    "    def call(self, input_features):\n",
    "        if(self.activation == 'relu'):\n",
    "            return tf.nn.relu(tf.matmul( input_features, self.w) + self.b)\n",
    "        \n",
    "        elif(self.activation == \"sigmoid\"):\n",
    "            return tf.math.sigmoid(tf.matmul( input_features, self.w) + self.b)\n",
    "            \n",
    "        else:\n",
    "            return tf.matmul( input_features, self.w) + self.b\n",
    "            \n",
    "            "
   ]
  },
  {
   "cell_type": "code",
   "execution_count": null,
   "id": "aafc6280",
   "metadata": {},
   "outputs": [],
   "source": [
    "lenet_model = tf.keras.Sequential([\n",
    "    InputLayer(input_shape = (IM_SIZE, IM_SIZE, 3)),\n",
    "    \n",
    "    Conv2D(filters = 6, kernel_size = 3, strides = 1, padding = 'valid', activation = \"relu\" ),\n",
    "    BatchNormalization(),\n",
    "    MaxPool2D(pool_size = 2, strides = 2),\n",
    "    \n",
    "    Conv2D(filters = 16, kernel_size = 3, strides = 1, padding = 'valid', activation = \"relu\" ),\n",
    "    BatchNormalization(),\n",
    "    MaxPool2D(pool_size = 2, strides = 2),\n",
    "    \n",
    "    Flatten(),\n",
    "    \n",
    "    Dense(100, activation= 'relu'),\n",
    "    BatchNormalization(),\n",
    "    Dense(10, activation= 'relu'),\n",
    "    BatchNormalization(),\n",
    "    Dense(1, activation= 'sigmoid')\n",
    "])\n",
    "lenet_model.summary()"
   ]
  },
  {
   "cell_type": "markdown",
   "id": "2ace349b",
   "metadata": {},
   "source": [
    "### Precision , Recall and Accuracy"
   ]
  },
  {
   "cell_type": "code",
   "execution_count": 10,
   "id": "ef2a5cd2",
   "metadata": {},
   "outputs": [],
   "source": [
    "metrics = [BinaryAccuracy(name = 'accuracy'), FalsePositives(name = \"fp\"), FalseNegatives(name = 'fn'), TruePositives(name = 'tp'), TrueNegatives(name = 'tn'), Precision(name = 'precision'), Recall(name = 'recall'), AUC(name = 'auc')]"
   ]
  },
  {
   "cell_type": "markdown",
   "id": "e9096319",
   "metadata": {},
   "source": [
    "# Visualizing Confusion Matrix"
   ]
  },
  {
   "cell_type": "code",
   "execution_count": 15,
   "id": "c690536d",
   "metadata": {},
   "outputs": [],
   "source": [
    "labels = []\n",
    "inp = []\n",
    "for x,y in test_dataset.as_numpy_iterator():\n",
    "    labels.append(y)\n",
    "    inp.append(x)"
   ]
  },
  {
   "cell_type": "code",
   "execution_count": 20,
   "id": "8d301d12",
   "metadata": {},
   "outputs": [
    {
     "data": {
      "text/plain": [
       "array([0, 1, 0, ..., 1, 0, 1], dtype=int64)"
      ]
     },
     "execution_count": 20,
     "metadata": {},
     "output_type": "execute_result"
    }
   ],
   "source": [
    "labels = np.array([i for i in labels])\n",
    "labels"
   ]
  },
  {
   "cell_type": "code",
   "execution_count": 23,
   "id": "a5d67275",
   "metadata": {},
   "outputs": [
    {
     "name": "stdout",
     "output_type": "stream",
     "text": [
      "(2757, 224, 224, 3)\n"
     ]
    }
   ],
   "source": [
    "print(np.array(inp).shape)\n"
   ]
  },
  {
   "cell_type": "code",
   "execution_count": 26,
   "id": "0ebd461d",
   "metadata": {},
   "outputs": [
    {
     "name": "stdout",
     "output_type": "stream",
     "text": [
      "87/87 [==============================] - 14s 159ms/step\n",
      "[[2.0286635e-02]\n",
      " [9.5121217e-01]\n",
      " [2.4350830e-04]\n",
      " ...\n",
      " [9.5316124e-01]\n",
      " [4.4525605e-02]\n",
      " [7.1574020e-01]]\n"
     ]
    }
   ],
   "source": [
    "predicted = lenet_model.predict(np.array(inp))\n",
    "print(predicted)"
   ]
  },
  {
   "cell_type": "code",
   "execution_count": 27,
   "id": "0c12b81e",
   "metadata": {},
   "outputs": [
    {
     "data": {
      "text/plain": [
       "(2757, 1)"
      ]
     },
     "execution_count": 27,
     "metadata": {},
     "output_type": "execute_result"
    }
   ],
   "source": [
    "predicted.shape"
   ]
  },
  {
   "cell_type": "markdown",
   "id": "aa8ede18",
   "metadata": {},
   "source": [
    "### Confusion Matrix"
   ]
  },
  {
   "cell_type": "code",
   "execution_count": 35,
   "id": "4f3f1286",
   "metadata": {},
   "outputs": [
    {
     "name": "stdout",
     "output_type": "stream",
     "text": [
      "[[1322   68]\n",
      " [ 124 1243]]\n"
     ]
    },
    {
     "data": {
      "text/plain": [
       "Text(0.5, 51.0, 'Predicted')"
      ]
     },
     "execution_count": 35,
     "metadata": {},
     "output_type": "execute_result"
    },
    {
     "data": {
      "image/png": "[encoded data removed]",
      "text/plain": [
       "<Figure size 576x576 with 2 Axes>"
      ]
     },
     "metadata": {
      "needs_background": "light"
     },
     "output_type": "display_data"
    }
   ],
   "source": [
    "threshold = 0.75\n",
    "\n",
    "cm = confusion_matrix(labels, predicted > threshold)\n",
    "print(cm)\n",
    "plt.figure(figsize = (8,8))\n",
    "\n",
    "sns.heatmap(cm, annot = True)\n",
    "plt.title('Confusion matrix - {}'.format(threshold))\n",
    "plt.ylabel(\"Actual\")\n",
    "plt.xlabel('Predicted')"
   ]
  },
  {
   "cell_type": "markdown",
   "id": "530e2f7a",
   "metadata": {},
   "source": [
    "### ROC Plots"
   ]
  },
  {
   "cell_type": "code",
   "execution_count": 39,
   "id": "7a54eaab",
   "metadata": {},
   "outputs": [
    {
     "data": {
      "image/png": "[encoded data removed]",
      "text/plain": [
       "<Figure size 432x288 with 1 Axes>"
      ]
     },
     "metadata": {
      "needs_background": "light"
     },
     "output_type": "display_data"
    }
   ],
   "source": [
    "fp,tp, thresholds = roc_curve(labels, predicted)\n",
    "plt.plot(fp,tp)\n",
    "plt.xlabel('False Positive Rate')\n",
    "plt.ylabel('True Positive Rate')\n",
    "\n",
    "plt.grid()\n",
    "\n",
    "skip = 20\n",
    "\n",
    "for i in range(0, len(thresholds), skip):\n",
    "    plt.text(fp[i], tp[i], thresholds[i])\n",
    "plt.show()"
   ]
  },
  {
   "cell_type": "markdown",
   "id": "0cd28dba",
   "metadata": {},
   "source": [
    "### Callbacks"
   ]
  },
  {
   "cell_type": "code",
   "execution_count": null,
   "id": "2863d0e2",
   "metadata": {},
   "outputs": [],
   "source": [
    "class LossCallback(Callback):\n",
    "    def on_epoch_end(epoch):\n",
    "        print(\"For Epoch Number {} the model has a loss of {}\".format(epoch, logs[\"loss\"]))"
   ]
  }
 ],
 "metadata": {
  "kernelspec": {
   "display_name": "Python 3 (ipykernel)",
   "language": "python",
   "name": "python3"
  },
  "language_info": {
   "codemirror_mode": {
    "name": "ipython",
    "version": 3
   },
   "file_extension": ".py",
   "mimetype": "text/x-python",
   "name": "python",
   "nbconvert_exporter": "python",
   "pygments_lexer": "ipython3",
   "version": "3.9.12"
  }
 },
 "nbformat": 4,
 "nbformat_minor": 5
}
